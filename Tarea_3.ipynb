{
  "nbformat": 4,
  "nbformat_minor": 0,
  "metadata": {
    "colab": {
      "provenance": [],
      "authorship_tag": "ABX9TyO4NHkqiFNMRHKXYgJgKp5C",
      "include_colab_link": true
    },
    "kernelspec": {
      "name": "python3",
      "display_name": "Python 3"
    },
    "language_info": {
      "name": "python"
    }
  },
  "cells": [
    {
      "cell_type": "markdown",
      "metadata": {
        "id": "view-in-github",
        "colab_type": "text"
      },
      "source": [
        "<a href=\"https://colab.research.google.com/github/JesusSJuarez/AlgebraLineal/blob/main/Tarea_3.ipynb\" target=\"_parent\"><img src=\"https://colab.research.google.com/assets/colab-badge.svg\" alt=\"Open In Colab\"/></a>"
      ]
    },
    {
      "cell_type": "markdown",
      "source": [
        "# Tarea 3\n"
      ],
      "metadata": {
        "id": "yMqUKxzbDAvP"
      }
    },
    {
      "cell_type": "code",
      "execution_count": 2,
      "metadata": {
        "colab": {
          "base_uri": "https://localhost:8080/"
        },
        "id": "ZmKU2TZFC8yg",
        "outputId": "4098f3a3-5f64-453c-899d-a1b4218c258d"
      },
      "outputs": [
        {
          "output_type": "stream",
          "name": "stdout",
          "text": [
            "Collecting nacal\n",
            "  Downloading nacal-0.1.30-py3-none-any.whl (33 kB)\n",
            "Requirement already satisfied: sympy>=1.1.0 in /usr/local/lib/python3.10/dist-packages (from nacal) (1.12)\n",
            "Requirement already satisfied: mpmath>=0.19 in /usr/local/lib/python3.10/dist-packages (from sympy>=1.1.0->nacal) (1.3.0)\n",
            "Installing collected packages: nacal\n",
            "Successfully installed nacal-0.1.30\n"
          ]
        }
      ],
      "source": [
        "!pip install --target=$nb_path nacal\n",
        "from nacal import *\n",
        "from IPython.display import display, Math, Latex"
      ]
    },
    {
      "cell_type": "code",
      "source": [
        "a = Vector([6,2,9])\n",
        "b = Vector([3,6,2])\n",
        "c = Vector([8,2,7])\n",
        "A = Matrix([a,b,c])\n",
        "B = Matrix([c,b,a])\n",
        "display(Latex(latex(A)))"
      ],
      "metadata": {
        "colab": {
          "base_uri": "https://localhost:8080/",
          "height": 78
        },
        "id": "o_8SP-I0DSzo",
        "outputId": "8814f38d-98f8-4e8d-8951-7c06c567d1b5"
      },
      "execution_count": 3,
      "outputs": [
        {
          "output_type": "display_data",
          "data": {
            "text/plain": [
              "<IPython.core.display.Latex object>"
            ],
            "text/latex": "\\left[ \\begin{array}{ccc}6&3&8\\\\2&6&2\\\\9&2&7\\\\ \\end{array} \\right]"
          },
          "metadata": {}
        }
      ]
    },
    {
      "cell_type": "markdown",
      "source": [
        "Hemos visto varias propiedades que cumple la operación MATRIZ por vector\n",
        "\n",
        "**Propiedades de linealidad en el vector**\n",
        "\n",
        "1.- $$A (b + c) = Ab + Ac$$"
      ],
      "metadata": {
        "id": "jQwJlbCADNj3"
      }
    },
    {
      "cell_type": "code",
      "source": [
        "display(Latex(latex(A*(b+c))))\n",
        "display(Latex(latex((A*b)+(A*c))))"
      ],
      "metadata": {
        "colab": {
          "base_uri": "https://localhost:8080/",
          "height": 139
        },
        "id": "vXMQybXNFk2x",
        "outputId": "24e2809f-6ff9-429c-e660-f730f896ac06"
      },
      "execution_count": 4,
      "outputs": [
        {
          "output_type": "display_data",
          "data": {
            "text/plain": [
              "<IPython.core.display.Latex object>"
            ],
            "text/latex": "\\begin{pmatrix}162\\\\ 88\\\\ 178\\end{pmatrix}"
          },
          "metadata": {}
        },
        {
          "output_type": "display_data",
          "data": {
            "text/plain": [
              "<IPython.core.display.Latex object>"
            ],
            "text/latex": "\\begin{pmatrix}162\\\\ 88\\\\ 178\\end{pmatrix}"
          },
          "metadata": {}
        }
      ]
    },
    {
      "cell_type": "markdown",
      "source": [
        "2.- $$A(λb) = λ(Ab)$$"
      ],
      "metadata": {
        "id": "Jze-a9QTFoTn"
      }
    },
    {
      "cell_type": "code",
      "source": [
        "lamb = 8\n",
        "display(Latex(latex(A*(lamb*b))))\n",
        "display(Latex(latex(lamb*(A*b))))"
      ],
      "metadata": {
        "colab": {
          "base_uri": "https://localhost:8080/",
          "height": 139
        },
        "id": "abi4RIn4FvBY",
        "outputId": "44d0f799-67b4-4197-d605-468dac82ebbc"
      },
      "execution_count": 5,
      "outputs": [
        {
          "output_type": "display_data",
          "data": {
            "text/plain": [
              "<IPython.core.display.Latex object>"
            ],
            "text/latex": "\\begin{pmatrix}416\\\\ 368\\\\ 424\\end{pmatrix}"
          },
          "metadata": {}
        },
        {
          "output_type": "display_data",
          "data": {
            "text/plain": [
              "<IPython.core.display.Latex object>"
            ],
            "text/latex": "\\begin{pmatrix}416\\\\ 368\\\\ 424\\end{pmatrix}"
          },
          "metadata": {}
        }
      ]
    },
    {
      "cell_type": "markdown",
      "source": [
        "3.- $$A(Bc)=[A(B|1); . . . A(B|n)]c$$"
      ],
      "metadata": {
        "id": "CWYIWyG1F2mw"
      }
    },
    {
      "cell_type": "code",
      "source": [
        "display(Latex(latex(A*(B*c))))"
      ],
      "metadata": {
        "colab": {
          "base_uri": "https://localhost:8080/",
          "height": 78
        },
        "id": "x9-1CdQAGAIR",
        "outputId": "ca7c5f60-3ae3-4e2f-fd8b-fa556868ccbd"
      },
      "execution_count": 6,
      "outputs": [
        {
          "output_type": "display_data",
          "data": {
            "text/plain": [
              "<IPython.core.display.Latex object>"
            ],
            "text/latex": "\\begin{pmatrix}1782\\\\ 722\\\\ 1953\\end{pmatrix}"
          },
          "metadata": {}
        }
      ]
    },
    {
      "cell_type": "markdown",
      "source": [
        "4.- $$(A + B)c = Ac + Bc$$"
      ],
      "metadata": {
        "id": "N3uk7jLZGK3x"
      }
    },
    {
      "cell_type": "code",
      "source": [
        "display(Latex(latex((A+B)*c)))\n",
        "display(Latex(latex((A*c)+(B*c))))"
      ],
      "metadata": {
        "colab": {
          "base_uri": "https://localhost:8080/",
          "height": 139
        },
        "id": "Pha2zkbKGQ5Q",
        "outputId": "9df707f6-1462-40f1-c2f7-b6ad2fb76d57"
      },
      "execution_count": 7,
      "outputs": [
        {
          "output_type": "display_data",
          "data": {
            "text/plain": [
              "<IPython.core.display.Latex object>"
            ],
            "text/latex": "\\begin{pmatrix}222\\\\ 84\\\\ 248\\end{pmatrix}"
          },
          "metadata": {}
        },
        {
          "output_type": "display_data",
          "data": {
            "text/plain": [
              "<IPython.core.display.Latex object>"
            ],
            "text/latex": "\\begin{pmatrix}222\\\\ 84\\\\ 248\\end{pmatrix}"
          },
          "metadata": {}
        }
      ]
    },
    {
      "cell_type": "markdown",
      "source": [
        "5.- $$(λA)b = λ(Ab)$$"
      ],
      "metadata": {
        "id": "OxVvfF94GXmo"
      }
    },
    {
      "cell_type": "code",
      "source": [
        "lamb = 2\n",
        "display(Latex(latex((lamb*A)*b)))\n",
        "display(Latex(latex(lamb*(A*b))))"
      ],
      "metadata": {
        "colab": {
          "base_uri": "https://localhost:8080/",
          "height": 139
        },
        "id": "BQCTn35SGcRI",
        "outputId": "68728ea1-a978-48f0-99ab-834a7c25bd1c"
      },
      "execution_count": 8,
      "outputs": [
        {
          "output_type": "display_data",
          "data": {
            "text/plain": [
              "<IPython.core.display.Latex object>"
            ],
            "text/latex": "\\begin{pmatrix}104\\\\ 92\\\\ 106\\end{pmatrix}"
          },
          "metadata": {}
        },
        {
          "output_type": "display_data",
          "data": {
            "text/plain": [
              "<IPython.core.display.Latex object>"
            ],
            "text/latex": "\\begin{pmatrix}104\\\\ 92\\\\ 106\\end{pmatrix}"
          },
          "metadata": {}
        }
      ]
    }
  ]
}