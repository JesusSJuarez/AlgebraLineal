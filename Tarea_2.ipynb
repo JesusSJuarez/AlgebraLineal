{
  "nbformat": 4,
  "nbformat_minor": 0,
  "metadata": {
    "colab": {
      "provenance": [],
      "authorship_tag": "ABX9TyNniLuHTyftnnONnWfn6UJ3",
      "include_colab_link": true
    },
    "kernelspec": {
      "name": "python3",
      "display_name": "Python 3"
    },
    "language_info": {
      "name": "python"
    }
  },
  "cells": [
    {
      "cell_type": "markdown",
      "metadata": {
        "id": "view-in-github",
        "colab_type": "text"
      },
      "source": [
        "<a href=\"https://colab.research.google.com/github/JesusSJuarez/AlgebraLineal/blob/main/Tarea_2.ipynb\" target=\"_parent\"><img src=\"https://colab.research.google.com/assets/colab-badge.svg\" alt=\"Open In Colab\"/></a>"
      ]
    },
    {
      "cell_type": "markdown",
      "source": [
        "#Tarea 2\n"
      ],
      "metadata": {
        "id": "CNuylbhZ7PFQ"
      }
    },
    {
      "cell_type": "code",
      "source": [
        "!pip install --target=$nb_path nacal\n",
        "from nacal import *\n",
        "from IPython.display import display, Math, Latex"
      ],
      "metadata": {
        "colab": {
          "base_uri": "https://localhost:8080/"
        },
        "id": "VSHR1HBh8G4A",
        "outputId": "a9fbcfae-a789-45dd-9ac8-cb116e4dd517"
      },
      "execution_count": 1,
      "outputs": [
        {
          "output_type": "stream",
          "name": "stdout",
          "text": [
            "Collecting nacal\n",
            "  Downloading nacal-0.1.30-py3-none-any.whl (33 kB)\n",
            "Requirement already satisfied: sympy>=1.1.0 in /usr/local/lib/python3.10/dist-packages (from nacal) (1.12)\n",
            "Requirement already satisfied: mpmath>=0.19 in /usr/local/lib/python3.10/dist-packages (from sympy>=1.1.0->nacal) (1.3.0)\n",
            "Installing collected packages: nacal\n",
            "Successfully installed nacal-0.1.30\n"
          ]
        }
      ]
    },
    {
      "cell_type": "markdown",
      "source": [
        "## Ejercicio 4\n",
        "¿Cómo evalúa el módulo NAcAL las siguientes expresiones?\n",
        "(a) $$3*b|1$$"
      ],
      "metadata": {
        "id": "CQ6Vh-VP7vcG"
      }
    },
    {
      "cell_type": "code",
      "execution_count": 2,
      "metadata": {
        "colab": {
          "base_uri": "https://localhost:8080/"
        },
        "id": "O9WaYuma7Lgf",
        "outputId": "b53e7c30-85f9-4029-ea11-0b80cf8f335d"
      },
      "outputs": [
        {
          "output_type": "stream",
          "name": "stdout",
          "text": [
            "24\n",
            "6\n",
            "6\n",
            "24\n"
          ]
        }
      ],
      "source": [
        "b = Vector ([8,7,6,5,4])\n",
        "print(3*b|1)\n",
        "print(3*1|b)\n",
        "print(1*3|b)\n",
        "print(1|b*3)"
      ]
    },
    {
      "cell_type": "markdown",
      "source": [
        "## Ejercicio 6\n",
        "Demuestre las propiedades de la siguiente proposición.\n",
        "\n",
        "Proposición 1.5.1 (Propiedades de las operaciones entre matrices). Para cualesquiera matrices A, B y C de idéntico orden y para cualesquiera escalares λ y η, se verifica que:"
      ],
      "metadata": {
        "id": "TMyGPV-J-HYA"
      }
    },
    {
      "cell_type": "code",
      "source": [
        "a = Vector([7,6,5,4,3])\n",
        "b = Vector([9,11,23,42,1])\n",
        "c = Vector([12,2,3,41,1])\n",
        "A = Matrix([a,b,c])\n",
        "B = Matrix([c,b,a])\n",
        "C = Matrix([b,a,c])\n",
        "display(Latex(latex(A)))\n",
        "display(Latex(latex(B)))\n",
        "display(Latex(latex(C)))"
      ],
      "metadata": {
        "colab": {
          "base_uri": "https://localhost:8080/",
          "height": 322
        },
        "id": "9Kaxo8TV-Y1g",
        "outputId": "56174840-66ff-4e29-ad5a-77b05c981816"
      },
      "execution_count": 3,
      "outputs": [
        {
          "output_type": "display_data",
          "data": {
            "text/plain": [
              "<IPython.core.display.Latex object>"
            ],
            "text/latex": "\\left[ \\begin{array}{ccc}7&9&12\\\\6&11&2\\\\5&23&3\\\\4&42&41\\\\3&1&1\\\\ \\end{array} \\right]"
          },
          "metadata": {}
        },
        {
          "output_type": "display_data",
          "data": {
            "text/plain": [
              "<IPython.core.display.Latex object>"
            ],
            "text/latex": "\\left[ \\begin{array}{ccc}12&9&7\\\\2&11&6\\\\3&23&5\\\\41&42&4\\\\1&1&3\\\\ \\end{array} \\right]"
          },
          "metadata": {}
        },
        {
          "output_type": "display_data",
          "data": {
            "text/plain": [
              "<IPython.core.display.Latex object>"
            ],
            "text/latex": "\\left[ \\begin{array}{ccc}9&7&12\\\\11&6&2\\\\23&5&3\\\\42&4&41\\\\1&3&1\\\\ \\end{array} \\right]"
          },
          "metadata": {}
        }
      ]
    },
    {
      "cell_type": "markdown",
      "source": [
        "1. $$A+B=B+A$$"
      ],
      "metadata": {
        "id": "1lzKkEem-kuu"
      }
    },
    {
      "cell_type": "code",
      "source": [
        "display(Latex(latex(A+B)))\n",
        "display(Latex(latex(B+A)))"
      ],
      "metadata": {
        "colab": {
          "base_uri": "https://localhost:8080/",
          "height": 220
        },
        "id": "J-EY70Ha-zin",
        "outputId": "5ac3f6ed-4a74-4b30-92ba-55601b04df5e"
      },
      "execution_count": 4,
      "outputs": [
        {
          "output_type": "display_data",
          "data": {
            "text/plain": [
              "<IPython.core.display.Latex object>"
            ],
            "text/latex": "\\left[ \\begin{array}{ccc}19&18&19\\\\8&22&8\\\\8&46&8\\\\45&84&45\\\\4&2&4\\\\ \\end{array} \\right]"
          },
          "metadata": {}
        },
        {
          "output_type": "display_data",
          "data": {
            "text/plain": [
              "<IPython.core.display.Latex object>"
            ],
            "text/latex": "\\left[ \\begin{array}{ccc}19&18&19\\\\8&22&8\\\\8&46&8\\\\45&84&45\\\\4&2&4\\\\ \\end{array} \\right]"
          },
          "metadata": {}
        }
      ]
    },
    {
      "cell_type": "markdown",
      "source": [
        "2.  $$A + (B + C) = (A + B ) + C$$"
      ],
      "metadata": {
        "id": "ma7cjNo--3IP"
      }
    },
    {
      "cell_type": "code",
      "source": [
        "display(Latex(latex(A+(B+C))))\n",
        "display(Latex(latex((A+B)+C)))"
      ],
      "metadata": {
        "colab": {
          "base_uri": "https://localhost:8080/",
          "height": 220
        },
        "id": "IX8Adcqy_Jin",
        "outputId": "e0ce3d55-5e40-462c-cfe9-b5008681e660"
      },
      "execution_count": 5,
      "outputs": [
        {
          "output_type": "display_data",
          "data": {
            "text/plain": [
              "<IPython.core.display.Latex object>"
            ],
            "text/latex": "\\left[ \\begin{array}{ccc}28&25&31\\\\19&28&10\\\\31&51&11\\\\87&88&86\\\\5&5&5\\\\ \\end{array} \\right]"
          },
          "metadata": {}
        },
        {
          "output_type": "display_data",
          "data": {
            "text/plain": [
              "<IPython.core.display.Latex object>"
            ],
            "text/latex": "\\left[ \\begin{array}{ccc}28&25&31\\\\19&28&10\\\\31&51&11\\\\87&88&86\\\\5&5&5\\\\ \\end{array} \\right]"
          },
          "metadata": {}
        }
      ]
    },
    {
      "cell_type": "markdown",
      "source": [
        "3. $$0+A=A$$"
      ],
      "metadata": {
        "id": "juC1y1As_K0n"
      }
    },
    {
      "cell_type": "code",
      "source": [
        "display(Latex(latex(M0(5,3)+A)))\n",
        "Latex(latex(A))"
      ],
      "metadata": {
        "colab": {
          "base_uri": "https://localhost:8080/",
          "height": 220
        },
        "id": "8mkGfa9i_UUH",
        "outputId": "b632f20a-c427-4956-b301-8ac4b1d5cbe8"
      },
      "execution_count": 6,
      "outputs": [
        {
          "output_type": "display_data",
          "data": {
            "text/plain": [
              "<IPython.core.display.Latex object>"
            ],
            "text/latex": "\\left[ \\begin{array}{ccc}7&9&12\\\\6&11&2\\\\5&23&3\\\\4&42&41\\\\3&1&1\\\\ \\end{array} \\right]"
          },
          "metadata": {}
        },
        {
          "output_type": "execute_result",
          "data": {
            "text/plain": [
              "<IPython.core.display.Latex object>"
            ],
            "text/latex": "\\left[ \\begin{array}{ccc}7&9&12\\\\6&11&2\\\\5&23&3\\\\4&42&41\\\\3&1&1\\\\ \\end{array} \\right]"
          },
          "metadata": {},
          "execution_count": 6
        }
      ]
    },
    {
      "cell_type": "markdown",
      "source": [
        "4. $$A+(-A)=0$$"
      ],
      "metadata": {
        "id": "MEw7m0gA_Y7v"
      }
    },
    {
      "cell_type": "code",
      "source": [
        "display(Latex(latex(A+(-A))))"
      ],
      "metadata": {
        "colab": {
          "base_uri": "https://localhost:8080/",
          "height": 119
        },
        "id": "23V92xIs_Yif",
        "outputId": "5ebc69c2-064e-47ed-aa68-d0bcfdb77de3"
      },
      "execution_count": 7,
      "outputs": [
        {
          "output_type": "display_data",
          "data": {
            "text/plain": [
              "<IPython.core.display.Latex object>"
            ],
            "text/latex": "\\left[ \\begin{array}{ccc}0&0&0\\\\0&0&0\\\\0&0&0\\\\0&0&0\\\\0&0&0\\\\ \\end{array} \\right]"
          },
          "metadata": {}
        }
      ]
    },
    {
      "cell_type": "markdown",
      "source": [
        "5. $$λ(A + B)=λA + λB$$"
      ],
      "metadata": {
        "id": "JJfAHPt5_tQ_"
      }
    },
    {
      "cell_type": "code",
      "source": [
        "lamb = 10\n",
        "display(Latex(latex(lamb*(A+B))))\n",
        "display(Latex(latex((lamb*A)+(lamb*B))))"
      ],
      "metadata": {
        "colab": {
          "base_uri": "https://localhost:8080/",
          "height": 220
        },
        "id": "Waxj2PHT_6XP",
        "outputId": "000341df-6c54-4335-da01-129726dbe244"
      },
      "execution_count": 8,
      "outputs": [
        {
          "output_type": "display_data",
          "data": {
            "text/plain": [
              "<IPython.core.display.Latex object>"
            ],
            "text/latex": "\\left[ \\begin{array}{ccc}190&180&190\\\\80&220&80\\\\80&460&80\\\\450&840&450\\\\40&20&40\\\\ \\end{array} \\right]"
          },
          "metadata": {}
        },
        {
          "output_type": "display_data",
          "data": {
            "text/plain": [
              "<IPython.core.display.Latex object>"
            ],
            "text/latex": "\\left[ \\begin{array}{ccc}190&180&190\\\\80&220&80\\\\80&460&80\\\\450&840&450\\\\40&20&40\\\\ \\end{array} \\right]"
          },
          "metadata": {}
        }
      ]
    },
    {
      "cell_type": "markdown",
      "source": [
        "6. $$(λ + η)A = λA + ηA$$"
      ],
      "metadata": {
        "id": "0b-2NVx5AIpA"
      }
    },
    {
      "cell_type": "code",
      "source": [
        "lamb=7\n",
        "n = 8\n",
        "display(Latex(latex(((lamb+n)*A))))\n",
        "display(Latex(latex((lamb*A)+(n*A))))"
      ],
      "metadata": {
        "colab": {
          "base_uri": "https://localhost:8080/",
          "height": 220
        },
        "id": "8YWTMGnlA-1K",
        "outputId": "893360ab-8063-43fa-a7e9-37d49dafa3b8"
      },
      "execution_count": 9,
      "outputs": [
        {
          "output_type": "display_data",
          "data": {
            "text/plain": [
              "<IPython.core.display.Latex object>"
            ],
            "text/latex": "\\left[ \\begin{array}{ccc}105&135&180\\\\90&165&30\\\\75&345&45\\\\60&630&615\\\\45&15&15\\\\ \\end{array} \\right]"
          },
          "metadata": {}
        },
        {
          "output_type": "display_data",
          "data": {
            "text/plain": [
              "<IPython.core.display.Latex object>"
            ],
            "text/latex": "\\left[ \\begin{array}{ccc}105&135&180\\\\90&165&30\\\\75&345&45\\\\60&630&615\\\\45&15&15\\\\ \\end{array} \\right]"
          },
          "metadata": {}
        }
      ]
    },
    {
      "cell_type": "markdown",
      "source": [
        "7. $$λ(ηA) = (λη)A$$"
      ],
      "metadata": {
        "id": "3GEXIkaGBNkO"
      }
    },
    {
      "cell_type": "code",
      "source": [
        "display(Latex(latex(lamb*(n*A))))\n",
        "display(Latex(latex((lamb*n)*A)))"
      ],
      "metadata": {
        "colab": {
          "base_uri": "https://localhost:8080/",
          "height": 220
        },
        "id": "wvrAHtkEBUrV",
        "outputId": "a5209a54-c36a-4272-8d69-52fb9adeda90"
      },
      "execution_count": 11,
      "outputs": [
        {
          "output_type": "display_data",
          "data": {
            "text/plain": [
              "<IPython.core.display.Latex object>"
            ],
            "text/latex": "\\left[ \\begin{array}{ccc}392&504&672\\\\336&616&112\\\\280&1288&168\\\\224&2352&2296\\\\168&56&56\\\\ \\end{array} \\right]"
          },
          "metadata": {}
        },
        {
          "output_type": "display_data",
          "data": {
            "text/plain": [
              "<IPython.core.display.Latex object>"
            ],
            "text/latex": "\\left[ \\begin{array}{ccc}392&504&672\\\\336&616&112\\\\280&1288&168\\\\224&2352&2296\\\\168&56&56\\\\ \\end{array} \\right]"
          },
          "metadata": {}
        }
      ]
    },
    {
      "cell_type": "markdown",
      "source": [
        "8. $$1A = A$$"
      ],
      "metadata": {
        "id": "y240Jb-6Bguv"
      }
    },
    {
      "cell_type": "code",
      "source": [
        "display(Latex(latex(1*A)))\n",
        "display(Latex(latex(A)))"
      ],
      "metadata": {
        "colab": {
          "base_uri": "https://localhost:8080/",
          "height": 220
        },
        "id": "KIYOAj_rBoOE",
        "outputId": "3e10e1b7-56d2-42ef-de4c-470d6a81c18a"
      },
      "execution_count": 12,
      "outputs": [
        {
          "output_type": "display_data",
          "data": {
            "text/plain": [
              "<IPython.core.display.Latex object>"
            ],
            "text/latex": "\\left[ \\begin{array}{ccc}7&9&12\\\\6&11&2\\\\5&23&3\\\\4&42&41\\\\3&1&1\\\\ \\end{array} \\right]"
          },
          "metadata": {}
        },
        {
          "output_type": "display_data",
          "data": {
            "text/plain": [
              "<IPython.core.display.Latex object>"
            ],
            "text/latex": "\\left[ \\begin{array}{ccc}7&9&12\\\\6&11&2\\\\5&23&3\\\\4&42&41\\\\3&1&1\\\\ \\end{array} \\right]"
          },
          "metadata": {}
        }
      ]
    }
  ]
}